{
 "cells": [
  {
   "cell_type": "markdown",
   "metadata": {},
   "source": [
    "Find the greatest common divisor of a list of numbers using Reduce. Explain how the code works as well. Explain how it works as well and how it relates to functional programing."
   ]
  },
  {
   "cell_type": "code",
   "execution_count": 1,
   "metadata": {
    "ExecuteTime": {
     "end_time": "2019-07-08T12:46:07.638845Z",
     "start_time": "2019-07-08T12:46:07.632554Z"
    }
   },
   "outputs": [],
   "source": [
    "from functools import reduce\n",
    "from math import gcd\n",
    "nums=[8,16,32]\n",
    "gcd = reduce(lambda a,b:gcd(a,b) ,nums)\n",
    "print(gcd)"
   ]
  },
  {
   "cell_type": "markdown",
   "metadata": {},
   "source": [
    "Write functional programming code to apply a list of functions on a list of integers. Explain how it works as well and how it relates to functional programing.\n",
    "\n",
    "#This map doesn’t take a named function. It takes an anonymous, inlined function defined with lambda. The parameters of the lambda are defined to the left of the colon. The function body is defined to the right of the colon. The result of running the function body is  returned implicitly."
   ]
  },
  {
   "cell_type": "code",
   "execution_count": 2,
   "metadata": {
    "ExecuteTime": {
     "end_time": "2019-07-08T12:46:07.649820Z",
     "start_time": "2019-07-08T12:46:07.641793Z"
    }
   },
   "outputs": [],
   "source": [
    "from functools import reduce\n",
    "\n",
    "int = [6, 7, 8, 10, 13, 15, 25, 100, 200]\n",
    "\n",
    "even_num=list(filter(lambda n:n%2==0,int))\n",
    "square_num =list(map(lambda a:a*a,int))\n",
    "sum_num = reduce(lambda a,b:a+b,int)\n",
    "\n",
    "print(even_num)\n",
    "print(square_num)\n",
    "print(sum_num)"
   ]
  },
  {
   "cell_type": "markdown",
   "metadata": {},
   "source": [
    "Write a function groupby_demonstrator that takes as a list of tuples as an input (arg data) as well as boolean argument (verify_sorted). If verify_sorted is true, the list is sorted by the first key (0-th tuple element), otherwise it is not sorted.\n",
    "The function should print out key-value pairs by groups (as output from Python groupby). The print statements between groups should have an empty line. Print statements inside-group should not have empty lines in between (just new lines between records).\n",
    "\n",
    "Add a decorator ‘ensure_sourted_grouper’ that overrides the grouping, by making sure that the list is sorted when an argument ‘verify_sorted’ = True is passed. Otherwise, “You didn’t enforce the order” is printed to the console.\n"
   ]
  },
  {
   "cell_type": "code",
   "execution_count": 10,
   "metadata": {
    "ExecuteTime": {
     "end_time": "2019-07-08T12:50:47.076368Z",
     "start_time": "2019-07-08T12:50:47.049602Z"
    }
   },
   "outputs": [
    {
     "name": "stdout",
     "output_type": "stream",
     "text": [
      "{'verify_sorted': True}\n",
      "animal\n",
      "\n",
      "[('animal', 'cow'), ('animal', 'goat')]\n",
      "car\n",
      "\n",
      "[('car', 'audi'), ('car', 'BMW')]\n",
      "tree\n",
      "\n",
      "[('tree', 'Mango')]\n"
     ]
    },
    {
     "data": {
      "text/plain": [
       "<function __main__.ensure_authorized.<locals>.wrapper_calling_fun(*args, **kwargs)>"
      ]
     },
     "execution_count": 10,
     "metadata": {},
     "output_type": "execute_result"
    }
   ],
   "source": [
    "from itertools import groupby\n",
    "def ensure_authorized(fun):\n",
    "   def wrapper_calling_fun(*args,**kwargs):\n",
    "       print(kwargs)\n",
    "       #print(\"hello\")\n",
    "       if kwargs.get(\"verify_sorted\")==True:\n",
    "           #print(\"this is true\")\n",
    "           sorted_value=sorted(*args,key=lambda x:x[0])\n",
    "           #print(sorted_value)\n",
    "           fun(sorted_value,**kwargs)\n",
    "       else :\n",
    "\n",
    "           print ('You didn’t enforce the order')\n",
    "   return wrapper_calling_fun\n",
    "@ensure_authorized\n",
    "def groupby_demo(arg,verify_sorted):\n",
    "   #if verify_sorted == True:\n",
    "       #data= sorted(arg,key=lambda tup: tup[0])\n",
    "       for k,g in groupby(arg,key=lambda tup: tup[0]):\n",
    "           print (k,list(g), sep='\\n\\n')\n",
    "\n",
    "\n",
    "\n",
    "   #else:\n",
    "       #print(arg)\n",
    "\n",
    "\n",
    "groupby_demo([('animal', 'cow'), ('car', 'audi'), ('car', 'BMW'),('tree', 'Mango'),('animal', 'goat')], verify_sorted=True )\n",
    "\n",
    "(groupby_demo)"
   ]
  },
  {
   "cell_type": "markdown",
   "metadata": {
    "ExecuteTime": {
     "end_time": "2019-07-08T12:46:25.012244Z",
     "start_time": "2019-07-08T12:46:25.000914Z"
    }
   },
   "source": [
    "Functional programming decomposes a problem into a set of fuctions.It's a coding paradigm in which the building blocks are immutable values and “pure functions” that share no state with other functions. Every time a pure function has a given input, it will return the same output without mutating data or causing side effects. In this sense, pure functions are often compared to mathematical operations. For example, 3 plus 4 will always equal 7, regardless of what other mathematical operations are being done, or how many times  added things together before.With the building blocks of pure functions and immutable values, programmers can create logical structures. Iteration can be replaced with recursion, because it is the functional way to cause the same action to occur multiple times. The function calls itself, with new inputs, until the parameters meet a termination condition.Thus FP makes running python codes much simplier and shorter."
   ]
  }
 ],
 "metadata": {
  "kernelspec": {
   "display_name": "Python 3",
   "language": "python",
   "name": "python3"
  },
  "language_info": {
   "codemirror_mode": {
    "name": "ipython",
    "version": 3
   },
   "file_extension": ".py",
   "mimetype": "text/x-python",
   "name": "python",
   "nbconvert_exporter": "python",
   "pygments_lexer": "ipython3",
   "version": "3.7.3"
  },
  "toc": {
   "base_numbering": 1,
   "nav_menu": {},
   "number_sections": true,
   "sideBar": true,
   "skip_h1_title": false,
   "title_cell": "Table of Contents",
   "title_sidebar": "Contents",
   "toc_cell": false,
   "toc_position": {},
   "toc_section_display": true,
   "toc_window_display": false
  },
  "varInspector": {
   "cols": {
    "lenName": 16,
    "lenType": 16,
    "lenVar": 40
   },
   "kernels_config": {
    "python": {
     "delete_cmd_postfix": "",
     "delete_cmd_prefix": "del ",
     "library": "var_list.py",
     "varRefreshCmd": "print(var_dic_list())"
    },
    "r": {
     "delete_cmd_postfix": ") ",
     "delete_cmd_prefix": "rm(",
     "library": "var_list.r",
     "varRefreshCmd": "cat(var_dic_list()) "
    }
   },
   "types_to_exclude": [
    "module",
    "function",
    "builtin_function_or_method",
    "instance",
    "_Feature"
   ],
   "window_display": false
  }
 },
 "nbformat": 4,
 "nbformat_minor": 2
}
